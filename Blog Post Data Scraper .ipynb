{
 "cells": [
  {
   "cell_type": "markdown",
   "id": "e6a55152-8721-4189-a494-65d99adb4350",
   "metadata": {
    "tags": []
   },
   "source": [
    "The purpose of this script is to look at an excel document with blog posts, and determine what day the post was published based on the html data on the site.\n",
    "It can recognize different date formats, and adjust accordingly.\n",
    "\n",
    "It then bring this data into the existing data, merges it, and creates an output.\n",
    "\n",
    "This was due to the fact that we couldn't get the blog post data needed along with the date."
   ]
  },
  {
   "cell_type": "code",
   "execution_count": null,
   "id": "c1e859c2",
   "metadata": {},
   "outputs": [],
   "source": [
    "# Imports\n",
    "\n",
    "import requests\n",
    "import bs4\n",
    "import pandas as pd\n",
    "#import will2live\n",
    "import warnings\n",
    "import os\n",
    "import openpyxl"
   ]
  },
  {
   "cell_type": "code",
   "execution_count": null,
   "id": "b068de7f-989f-40be-8365-92177bce5db1",
   "metadata": {},
   "outputs": [],
   "source": [
    "import certifi\n",
    "import urllib3\n",
    "http = urllib3.PoolManager(ca_certs=certifi.where())\n"
   ]
  },
  {
   "cell_type": "code",
   "execution_count": null,
   "id": "32ac958d-2a73-47bf-b475-f3fb1571d70e",
   "metadata": {},
   "outputs": [],
   "source": [
    "import certifi\n",
    "certifi.where()"
   ]
  },
  {
   "cell_type": "code",
   "execution_count": null,
   "id": "779f2101-7c14-414f-8c2b-0524fcada83b",
   "metadata": {},
   "outputs": [],
   "source": [
    "custom_certificate_path = \"certifcate_path_here\\blog.pem\""
   ]
  },
  {
   "cell_type": "code",
   "execution_count": null,
   "id": "11665f30-1e99-4cbc-a573-be791d71572b",
   "metadata": {
    "tags": []
   },
   "outputs": [],
   "source": [
    "# User detection, used to automatically adjust the directories based on the user running the script,\n",
    "# using rules known of how the organization (of users) organize their files\n",
    "\n",
    "\n",
    "import pandas as pd\n",
    "import openpyxl\n",
    "root2='C:'+'\\\\'+\"Users\"+'\\\\'\n",
    "user=os.getcwd()\n",
    "print(user)\n",
    "userloc=user.find(\"Users\")\n",
    "userloc=userloc+6\n",
    "user=user[userloc:]\n",
    "print(user)\n",
    "userloc=user.find(\"\\\\\")\n",
    "if userloc==-1:\n",
    "    user=user\n",
    "else:\n",
    "    user=user[:userloc]"
   ]
  },
  {
   "cell_type": "code",
   "execution_count": null,
   "id": "ef335637-9c0b-4b4f-8782-eafd1318d0a5",
   "metadata": {
    "tags": []
   },
   "outputs": [],
   "source": [
    "month_dict = {\n",
    "    'Jan': '01',\n",
    "    'Feb': '02',\n",
    "    'Mar': '03',\n",
    "    'Apr': '04',\n",
    "    'May': '05',\n",
    "    'Jun': '06',\n",
    "    'Jul': '07',\n",
    "    'Aug': '08',\n",
    "    'Sep': '09',\n",
    "    'Oct': '10',\n",
    "    'Nov': '11',\n",
    "    'Dec': '12'\n",
    "}"
   ]
  },
  {
   "cell_type": "code",
   "execution_count": null,
   "id": "62ff6847-87ac-4150-8e59-4155940e4d30",
   "metadata": {
    "tags": []
   },
   "outputs": [],
   "source": [
    "# Reading the file\n",
    "\n",
    "filepath=root2+user+\"\\\\source_file.xlsx\"\n",
    "df=pd.read_excel(filepath,sheet_name=\"sheet_name\",engine='openpyxl')\n",
    "df.head(3)"
   ]
  },
  {
   "cell_type": "code",
   "execution_count": null,
   "id": "b9effdc1-dc61-4505-b311-0dbf7c43bac7",
   "metadata": {},
   "outputs": [],
   "source": [
    "len(df[df['Year']==2024])"
   ]
  },
  {
   "cell_type": "code",
   "execution_count": null,
   "id": "408ce0a3-1a72-4271-9753-b41d8c2032a1",
   "metadata": {
    "tags": []
   },
   "outputs": [],
   "source": [
    "# filter df for years\n",
    "#df=df[df['Year']==2023]\n",
    "df = df[(df['Year'] == 2023) | (df['Year'] == 2024)]\n",
    "\n",
    "# df=df[df['Year']==2024]\n",
    "len(df)"
   ]
  },
  {
   "cell_type": "code",
   "execution_count": null,
   "id": "87e850ff-db17-4167-8e6b-1f0f1071061e",
   "metadata": {
    "tags": []
   },
   "outputs": [],
   "source": [
    "# Making dataframe only certain months\n",
    "monthlist=[1,12,2]\n",
    "df=df[df['Month'].isin(monthlist)]\n",
    "len(df)"
   ]
  },
  {
   "cell_type": "code",
   "execution_count": null,
   "id": "1d308532-4c64-4503-8793-0d051a30fe66",
   "metadata": {},
   "outputs": [],
   "source": [
    "yearlist=[2023,2024]\n",
    "df=df[df['Year'].isin(yearlist)]\n",
    "len(df)"
   ]
  },
  {
   "cell_type": "code",
   "execution_count": null,
   "id": "a9ca2177-bf70-4a6e-a4c0-b9e160b3bde4",
   "metadata": {
    "tags": []
   },
   "outputs": [],
   "source": [
    "linklist=df['blog_postterest Link']\n",
    "len(linklist)"
   ]
  },
  {
   "cell_type": "code",
   "execution_count": null,
   "id": "cb00f21e-31ed-4ed2-8b13-025929c550da",
   "metadata": {
    "tags": []
   },
   "outputs": [],
   "source": [
    "import re\n",
    "pattern_str = r'^\\d{2}-\\d{2}-\\d{4}$'\n",
    "verify_bool=False"
   ]
  },
  {
   "cell_type": "code",
   "execution_count": null,
   "id": "f589410d-eb64-4fd9-a2b5-ab06e2ecc8a2",
   "metadata": {
    "tags": []
   },
   "outputs": [],
   "source": [
    "def porridge(x):\n",
    "    res=requests.get(x,verify=verify_bool)\n",
    "    soup = bs4.BeautifulSoup(res.content, 'html.parser')\n",
    "    return(soup)"
   ]
  },
  {
   "cell_type": "code",
   "execution_count": null,
   "id": "4d3ec520-9416-4146-b35d-09c9d09934c1",
   "metadata": {},
   "outputs": [],
   "source": [
    "from datetime import datetime"
   ]
  },
  {
   "cell_type": "code",
   "execution_count": null,
   "id": "64d603ee-f7f3-461c-8ba6-893559d92f1f",
   "metadata": {},
   "outputs": [],
   "source": [
    "def convert_date_format(date_str):\n",
    "    input_format = \"%d %b %Y\"\n",
    "    output_format = \"%m-%d-%Y\"\n",
    "    \n",
    "    date_obj = datetime.strptime(date_str, input_format)\n",
    "    return date_obj.strftime(output_format)"
   ]
  },
  {
   "cell_type": "code",
   "execution_count": null,
   "id": "fe6deece-d08f-4fcb-aeda-d8a5caf1cbc6",
   "metadata": {},
   "outputs": [],
   "source": [
    "# some strings have been removed for privacy reasons, and have placeholders\n",
    "critical_string1='string1'\n",
    "critical_string2='string2'\n",
    "\n",
    "def created(soop):\n",
    "        daet=(str(soop))[str(soop).find(critical_string1)+17:str(soop).find(critical_string2)+28]\n",
    "        if daet=='<html class':\n",
    "            return('ERR')\n",
    "        else:\n",
    "            date=convert_date_format(daet)\n",
    "            return(date)"
   ]
  },
  {
   "cell_type": "code",
   "execution_count": null,
   "id": "88df79f8-fdee-4e76-b085-9b527de9f5b7",
   "metadata": {
    "tags": []
   },
   "outputs": [],
   "source": [
    "i=2\n",
    "broken_link_list=[]\n",
    "dates=[]\n",
    "for x in df['Link']:\n",
    "    while True:\n",
    "        soop=porridge(x)\n",
    "        #print(soop)\n",
    "        date=created(soop)\n",
    "        if date!=None:\n",
    "            #print(date)\n",
    "            i=2\n",
    "            pass\n",
    "        else:\n",
    "            i+=1\n",
    "            soop=porridge(x)\n",
    "            date=created(soop)\n",
    "            #print(date)\n",
    "            if i==30:\n",
    "                    print(f'This post has been determined to be inaccessible: {x} ')\n",
    "                    broken_link_list.append(x)\n",
    "                    #print(date)\n",
    "                    #print(x)\n",
    "                    date=None\n",
    "                    #dates.append(date)\n",
    "                    # TEST ADD DATES APPEND DATE HERE\n",
    "                    i=2\n",
    "                    break\n",
    "        break\n",
    "    dates.append(date)\n",
    "    print(f'{len(dates)} Links have been processed, and i={i}', end=\"\\r\")"
   ]
  },
  {
   "cell_type": "code",
   "execution_count": null,
   "id": "758d67a4-5d43-42d9-89c9-e3a19e963fd4",
   "metadata": {
    "tags": []
   },
   "outputs": [],
   "source": [
    "df['dates']=dates"
   ]
  },
  {
   "cell_type": "code",
   "execution_count": null,
   "id": "e83ed86c-4197-4838-a2d3-7de12dd45037",
   "metadata": {
    "tags": []
   },
   "outputs": [],
   "source": [
    "df['Week Ending']=df['Week Ending'].apply(lambda x: str(x)[:10])"
   ]
  },
  {
   "cell_type": "code",
   "execution_count": null,
   "id": "37300f3f-733b-4427-a4ba-7a7dcff1444b",
   "metadata": {
    "tags": []
   },
   "outputs": [],
   "source": [
    "dates"
   ]
  },
  {
   "cell_type": "code",
   "execution_count": null,
   "id": "9208626e-25a3-447a-8181-982a12cb7dbb",
   "metadata": {
    "tags": []
   },
   "outputs": [],
   "source": [
    "desired_format = r'\\d{2}-\\d{2}-\\d{4}'\n",
    "matching_df = df[df['dates'].str.match(desired_format, na=False)]\n",
    "non_matching_df = df[~df['dates'].str.match(desired_format, na=False)]"
   ]
  },
  {
   "cell_type": "code",
   "execution_count": null,
   "id": "f430f566-0c6b-4e39-90d0-b394471bb322",
   "metadata": {
    "tags": []
   },
   "outputs": [],
   "source": [
    "matching_df_unique=matching_df.drop_duplicates(subset='Link').copy()\n",
    "matching_df_unique.head(3)"
   ]
  },
  {
   "cell_type": "code",
   "execution_count": null,
   "id": "46de91f7-5d87-4329-a85d-a01dc8e35024",
   "metadata": {
    "tags": []
   },
   "outputs": [],
   "source": [
    "merged_df = non_matching_df.merge(matching_df_unique[['Link', 'dates']], on='Link', how='left')\n"
   ]
  },
  {
   "cell_type": "code",
   "execution_count": null,
   "id": "2564c691-3d1b-46de-aa9c-ddd377695f9c",
   "metadata": {
    "tags": []
   },
   "outputs": [],
   "source": [
    "merged_df['dates']=merged_df['dates_y']"
   ]
  },
  {
   "cell_type": "code",
   "execution_count": null,
   "id": "d2658bc7-7621-4542-836c-194f0e8e6674",
   "metadata": {
    "tags": []
   },
   "outputs": [],
   "source": [
    "merged_df.drop(['dates_x','dates_y'],axis=1,inplace=True)"
   ]
  },
  {
   "cell_type": "code",
   "execution_count": null,
   "id": "de343862-bd96-466e-b2bf-f3ea8e2d20db",
   "metadata": {
    "tags": []
   },
   "outputs": [],
   "source": [
    "df=pd.concat([merged_df,matching_df])"
   ]
  },
  {
   "cell_type": "code",
   "execution_count": null,
   "id": "bdb0f13b-18b0-4379-ad95-7aba01ff5a16",
   "metadata": {},
   "outputs": [],
   "source": [
    "from datetime import datetime\n",
    "now = str(datetime.now())[:16]\n",
    "now=now.replace(':','_')\n",
    "blog_postfilepath='\\DataWithDates'+now+'.xlsx'\n",
    "blog_postfilepath\n",
    "\n",
    "import os\n",
    "user=os.getcwd()\n",
    "userloc=user.find(\"Users\")\n",
    "userloc=userloc+6\n",
    "user=user[userloc:]\n",
    "userloc=user.find('\\\\')\n",
    "user=user[:userloc]\n",
    "blog_postscriptfolder=r\"C:\\Users\\user\\ScriptResults\"\n",
    "blog_postscriptfolder=blog_postscriptfolder.replace('user',user)\n",
    "blog_postscriptfolder\n",
    "blog_postfilepath=blog_postscriptfolder+blog_postfilepath\n",
    "print(blog_postfilepath)\n",
    "print('\\n')\n",
    "\n",
    "df.to_excel(blog_postfilepath,index=False)\n",
    "blog_postfilepath=blog_postfilepath[:-21]+'.xlsx'\n",
    "df.to_excel(blog_postfilepath,index=False)\n",
    "\n",
    "print(str(df['Week Ending'].iloc[0])[:10])\n",
    "print(blog_postfilepath)"
   ]
  },
  {
   "cell_type": "code",
   "execution_count": null,
   "id": "351323fb-f0de-4f30-9ddb-ce8556d07253",
   "metadata": {},
   "outputs": [],
   "source": [
    "#uniq=[]\n",
    "uniq2=[]\n",
    "for x in df['dates']:\n",
    "    #uniq.append(x)\n",
    "    uniq2.append(datetime.strptime(x,'%m-%d-%Y').date())\n",
    "#list(set(uniq))\n",
    "uniq2=list(set(uniq2))\n",
    "\n",
    "uniq2.sort(reverse=True)"
   ]
  },
  {
   "cell_type": "code",
   "execution_count": null,
   "id": "0f57c020-3f61-4f81-be3a-ebc394f0e89c",
   "metadata": {
    "collapsed": true,
    "jupyter": {
     "outputs_hidden": true
    },
    "tags": []
   },
   "outputs": [],
   "source": [
    "for x in uniq2:\n",
    "    print(x)"
   ]
  },
  {
   "cell_type": "code",
   "execution_count": null,
   "id": "d13a29c0-f931-43ea-8c24-05dd70726fbe",
   "metadata": {},
   "outputs": [],
   "source": [
    "#uniq=[]\n",
    "uniq3=[]\n",
    "for x in df['Week Ending']:\n",
    "    #uniq.append(x)\n",
    "    uniq3.append(datetime.strptime(x,'%Y-%m-%d').date())\n",
    "#list(set(uniq))\n",
    "uniq3=list(set(uniq3))\n",
    "\n",
    "uniq3.sort(reverse=True)\n",
    "\n",
    "for x in uniq3:\n",
    "    print(x)"
   ]
  }
 ],
 "metadata": {
  "kernelspec": {
   "display_name": "Python 3 (ipykernel)",
   "language": "python",
   "name": "python3"
  },
  "language_info": {
   "codemirror_mode": {
    "name": "ipython",
    "version": 3
   },
   "file_extension": ".py",
   "mimetype": "text/x-python",
   "name": "python",
   "nbconvert_exporter": "python",
   "pygments_lexer": "ipython3",
   "version": "3.10.9"
  }
 },
 "nbformat": 4,
 "nbformat_minor": 5
}
